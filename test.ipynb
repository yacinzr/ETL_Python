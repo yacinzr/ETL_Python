{
 "cells": [
  {
   "cell_type": "code",
   "execution_count": 3,
   "metadata": {},
   "outputs": [
    {
     "name": "stdout",
     "output_type": "stream",
     "text": [
      "  InvoiceNo StockCode                          Description  Quantity  \\\n",
      "0    536365    85123A   WHITE HANGING HEART T-LIGHT HOLDER         6   \n",
      "1    536365     71053                  WHITE METAL LANTERN         6   \n",
      "2    536365    84406B       CREAM CUPID HEARTS COAT HANGER         8   \n",
      "3    536365    84029G  KNITTED UNION FLAG HOT WATER BOTTLE         6   \n",
      "4    536365    84029E       RED WOOLLY HOTTIE WHITE HEART.         6   \n",
      "\n",
      "          InvoiceDate  UnitPrice  CustomerID         Country  \n",
      "0 2010-12-01 08:26:00       2.55     17850.0  United Kingdom  \n",
      "1 2010-12-01 08:26:00       3.39     17850.0  United Kingdom  \n",
      "2 2010-12-01 08:26:00       2.75     17850.0  United Kingdom  \n",
      "3 2010-12-01 08:26:00       3.39     17850.0  United Kingdom  \n",
      "4 2010-12-01 08:26:00       3.39     17850.0  United Kingdom  \n"
     ]
    }
   ],
   "source": [
    "import pandas as pd \n",
    "# Load the Excel file\n",
    "df = pd.read_excel(\"Online Retail.xlsx\")\n",
    "\n",
    "# Check the first few rows of the DataFrame\n",
    "print(df.head())"
   ]
  },
  {
   "cell_type": "code",
   "execution_count": 4,
   "metadata": {},
   "outputs": [
    {
     "name": "stdout",
     "output_type": "stream",
     "text": [
      "InvoiceNo              object\n",
      "StockCode              object\n",
      "Description            object\n",
      "Quantity                int64\n",
      "InvoiceDate    datetime64[ns]\n",
      "UnitPrice             float64\n",
      "CustomerID            float64\n",
      "Country                object\n",
      "dtype: object\n"
     ]
    }
   ],
   "source": [
    "print(df.dtypes)\n"
   ]
  },
  {
   "cell_type": "code",
   "execution_count": 37,
   "metadata": {},
   "outputs": [
    {
     "name": "stdout",
     "output_type": "stream",
     "text": [
      "--- Informations générales ---\n",
      "<class 'pandas.core.frame.DataFrame'>\n",
      "RangeIndex: 541909 entries, 0 to 541908\n",
      "Data columns (total 8 columns):\n",
      " #   Column       Non-Null Count   Dtype         \n",
      "---  ------       --------------   -----         \n",
      " 0   InvoiceNo    541909 non-null  object        \n",
      " 1   StockCode    541909 non-null  object        \n",
      " 2   Description  540455 non-null  object        \n",
      " 3   Quantity     541909 non-null  int64         \n",
      " 4   InvoiceDate  541909 non-null  datetime64[ns]\n",
      " 5   UnitPrice    541909 non-null  float64       \n",
      " 6   CustomerID   406829 non-null  float64       \n",
      " 7   Country      541909 non-null  object        \n",
      "dtypes: datetime64[ns](1), float64(2), int64(1), object(4)\n",
      "memory usage: 33.1+ MB\n",
      "None\n",
      "\n",
      "--- Valeurs manquantes ---\n",
      "InvoiceNo           0\n",
      "StockCode           0\n",
      "Description      1454\n",
      "Quantity            0\n",
      "InvoiceDate         0\n",
      "UnitPrice           0\n",
      "CustomerID     135080\n",
      "Country             0\n",
      "dtype: int64\n",
      "\n",
      "--- Aperçu des données ---\n",
      "  InvoiceNo StockCode                          Description  Quantity  \\\n",
      "0    536365    85123A   WHITE HANGING HEART T-LIGHT HOLDER         6   \n",
      "1    536365     71053                  WHITE METAL LANTERN         6   \n",
      "2    536365    84406B       CREAM CUPID HEARTS COAT HANGER         8   \n",
      "3    536365    84029G  KNITTED UNION FLAG HOT WATER BOTTLE         6   \n",
      "4    536365    84029E       RED WOOLLY HOTTIE WHITE HEART.         6   \n",
      "\n",
      "          InvoiceDate  UnitPrice  CustomerID         Country  \n",
      "0 2010-12-01 08:26:00       2.55     17850.0  United Kingdom  \n",
      "1 2010-12-01 08:26:00       3.39     17850.0  United Kingdom  \n",
      "2 2010-12-01 08:26:00       2.75     17850.0  United Kingdom  \n",
      "3 2010-12-01 08:26:00       3.39     17850.0  United Kingdom  \n",
      "4 2010-12-01 08:26:00       3.39     17850.0  United Kingdom  \n"
     ]
    }
   ],
   "source": [
    "# Afficher les informations générales\n",
    "print(\"--- Informations générales ---\")\n",
    "print(df.info())\n",
    "\n",
    "# Afficher le nombre de valeurs manquantes\n",
    "print(\"\\n--- Valeurs manquantes ---\")\n",
    "print(df.isnull().sum())\n",
    "\n",
    "# Afficher les premières lignes du DataFrame\n",
    "print(\"\\n--- Aperçu des données ---\")\n",
    "print(df.head())"
   ]
  },
  {
   "cell_type": "code",
   "execution_count": 38,
   "metadata": {},
   "outputs": [
    {
     "name": "stdout",
     "output_type": "stream",
     "text": [
      " before  InvoiceNo           0\n",
      "StockCode           0\n",
      "Description      1454\n",
      "Quantity            0\n",
      "InvoiceDate         0\n",
      "UnitPrice           0\n",
      "CustomerID     135080\n",
      "Country             0\n",
      "dtype: int64\n",
      " after  InvoiceNo      0\n",
      "StockCode      0\n",
      "Description    0\n",
      "Quantity       0\n",
      "InvoiceDate    0\n",
      "UnitPrice      0\n",
      "CustomerID     0\n",
      "Country        0\n",
      "dtype: int64\n"
     ]
    },
    {
     "name": "stderr",
     "output_type": "stream",
     "text": [
      "C:\\Users\\YacineZERIKAT\\AppData\\Local\\Temp\\ipykernel_4648\\2481476801.py:4: FutureWarning: A value is trying to be set on a copy of a DataFrame or Series through chained assignment using an inplace method.\n",
      "The behavior will change in pandas 3.0. This inplace method will never work because the intermediate object on which we are setting values always behaves as a copy.\n",
      "\n",
      "For example, when doing 'df[col].method(value, inplace=True)', try using 'df.method({col: value}, inplace=True)' or df[col] = df[col].method(value) instead, to perform the operation inplace on the original object.\n",
      "\n",
      "\n",
      "  df['Description'].fillna('Inconnu', inplace=True)  # Exemple pour une variable catégorielle\n",
      "C:\\Users\\YacineZERIKAT\\AppData\\Local\\Temp\\ipykernel_4648\\2481476801.py:5: FutureWarning: A value is trying to be set on a copy of a DataFrame or Series through chained assignment using an inplace method.\n",
      "The behavior will change in pandas 3.0. This inplace method will never work because the intermediate object on which we are setting values always behaves as a copy.\n",
      "\n",
      "For example, when doing 'df[col].method(value, inplace=True)', try using 'df.method({col: value}, inplace=True)' or df[col] = df[col].method(value) instead, to perform the operation inplace on the original object.\n",
      "\n",
      "\n",
      "  df['Quantity'].fillna(df['Quantity'].median(), inplace=True)  # Exemple pour une variable numérique\n",
      "C:\\Users\\YacineZERIKAT\\AppData\\Local\\Temp\\ipykernel_4648\\2481476801.py:6: FutureWarning: A value is trying to be set on a copy of a DataFrame or Series through chained assignment using an inplace method.\n",
      "The behavior will change in pandas 3.0. This inplace method will never work because the intermediate object on which we are setting values always behaves as a copy.\n",
      "\n",
      "For example, when doing 'df[col].method(value, inplace=True)', try using 'df.method({col: value}, inplace=True)' or df[col] = df[col].method(value) instead, to perform the operation inplace on the original object.\n",
      "\n",
      "\n",
      "  df['UnitPrice'].fillna(df['UnitPrice'].mean(), inplace=True)  # Remplir avec la moyenne pour les prix\n",
      "C:\\Users\\YacineZERIKAT\\AppData\\Local\\Temp\\ipykernel_4648\\2481476801.py:7: FutureWarning: A value is trying to be set on a copy of a DataFrame or Series through chained assignment using an inplace method.\n",
      "The behavior will change in pandas 3.0. This inplace method will never work because the intermediate object on which we are setting values always behaves as a copy.\n",
      "\n",
      "For example, when doing 'df[col].method(value, inplace=True)', try using 'df.method({col: value}, inplace=True)' or df[col] = df[col].method(value) instead, to perform the operation inplace on the original object.\n",
      "\n",
      "\n",
      "  df['Country'].fillna(df['Country'].mode()[0], inplace=True)  # Remplir avec la modalité la plus fréquente\n"
     ]
    }
   ],
   "source": [
    "missing_before = df.isnull().sum() \n",
    "\n",
    "df.dropna(subset=['CustomerID', 'InvoiceNo', 'StockCode'], inplace=True) \n",
    "df['Description'].fillna('Inconnu', inplace=True)  # Exemple pour une variable catégorielle\n",
    "df['Quantity'].fillna(df['Quantity'].median(), inplace=True)  # Exemple pour une variable numérique\n",
    "df['UnitPrice'].fillna(df['UnitPrice'].mean(), inplace=True)  # Remplir avec la moyenne pour les prix\n",
    "df['Country'].fillna(df['Country'].mode()[0], inplace=True)  # Remplir avec la modalité la plus fréquente\n",
    "after_missing = df.isnull().sum()\n"
   ]
  },
  {
   "cell_type": "code",
   "execution_count": 39,
   "metadata": {},
   "outputs": [
    {
     "name": "stdout",
     "output_type": "stream",
     "text": [
      "Nombre de factures annulées : 8905\n"
     ]
    }
   ],
   "source": [
    "cancelled_count = df['InvoiceNo'].str.startswith('C').sum()\n",
    "\n",
    "print(f\"Nombre de factures annulées : {cancelled_count}\")"
   ]
  },
  {
   "cell_type": "code",
   "execution_count": 42,
   "metadata": {},
   "outputs": [
    {
     "ename": "TypeError",
     "evalue": "bad operand type for unary ~: 'float'",
     "output_type": "error",
     "traceback": [
      "\u001b[31m---------------------------------------------------------------------------\u001b[39m",
      "\u001b[31mTypeError\u001b[39m                                 Traceback (most recent call last)",
      "\u001b[36mCell\u001b[39m\u001b[36m \u001b[39m\u001b[32mIn[42]\u001b[39m\u001b[32m, line 1\u001b[39m\n\u001b[32m----> \u001b[39m\u001b[32m1\u001b[39m df = df[\u001b[43m~\u001b[49m\u001b[43mdf\u001b[49m\u001b[43m[\u001b[49m\u001b[33;43m'\u001b[39;49m\u001b[33;43mInvoiceNo\u001b[39;49m\u001b[33;43m'\u001b[39;49m\u001b[43m]\u001b[49m\u001b[43m.\u001b[49m\u001b[43mstr\u001b[49m\u001b[43m.\u001b[49m\u001b[43mstartswith\u001b[49m\u001b[43m(\u001b[49m\u001b[33;43m'\u001b[39;49m\u001b[33;43mC\u001b[39;49m\u001b[33;43m'\u001b[39;49m\u001b[43m)\u001b[49m]\n\u001b[32m      2\u001b[39m cancelled_count = df[\u001b[33m'\u001b[39m\u001b[33mInvoiceNo\u001b[39m\u001b[33m'\u001b[39m].str.startswith(\u001b[33m'\u001b[39m\u001b[33mC\u001b[39m\u001b[33m'\u001b[39m).sum()\n\u001b[32m      4\u001b[39m \u001b[38;5;28mprint\u001b[39m(\u001b[33mf\u001b[39m\u001b[33m\"\u001b[39m\u001b[33mNombre de factures annulées : \u001b[39m\u001b[38;5;132;01m{\u001b[39;00mcancelled_count\u001b[38;5;132;01m}\u001b[39;00m\u001b[33m\"\u001b[39m)\n",
      "\u001b[36mFile \u001b[39m\u001b[32m~\\AppData\\Local\\Packages\\PythonSoftwareFoundation.Python.3.13_qbz5n2kfra8p0\\LocalCache\\local-packages\\Python313\\site-packages\\pandas\\core\\generic.py:1571\u001b[39m, in \u001b[36mNDFrame.__invert__\u001b[39m\u001b[34m(self)\u001b[39m\n\u001b[32m   1567\u001b[39m \u001b[38;5;28;01mif\u001b[39;00m \u001b[38;5;129;01mnot\u001b[39;00m \u001b[38;5;28mself\u001b[39m.size:\n\u001b[32m   1568\u001b[39m     \u001b[38;5;66;03m# inv fails with 0 len\u001b[39;00m\n\u001b[32m   1569\u001b[39m     \u001b[38;5;28;01mreturn\u001b[39;00m \u001b[38;5;28mself\u001b[39m.copy(deep=\u001b[38;5;28;01mFalse\u001b[39;00m)\n\u001b[32m-> \u001b[39m\u001b[32m1571\u001b[39m new_data = \u001b[38;5;28;43mself\u001b[39;49m\u001b[43m.\u001b[49m\u001b[43m_mgr\u001b[49m\u001b[43m.\u001b[49m\u001b[43mapply\u001b[49m\u001b[43m(\u001b[49m\u001b[43moperator\u001b[49m\u001b[43m.\u001b[49m\u001b[43minvert\u001b[49m\u001b[43m)\u001b[49m\n\u001b[32m   1572\u001b[39m res = \u001b[38;5;28mself\u001b[39m._constructor_from_mgr(new_data, axes=new_data.axes)\n\u001b[32m   1573\u001b[39m \u001b[38;5;28;01mreturn\u001b[39;00m res.__finalize__(\u001b[38;5;28mself\u001b[39m, method=\u001b[33m\"\u001b[39m\u001b[33m__invert__\u001b[39m\u001b[33m\"\u001b[39m)\n",
      "\u001b[36mFile \u001b[39m\u001b[32m~\\AppData\\Local\\Packages\\PythonSoftwareFoundation.Python.3.13_qbz5n2kfra8p0\\LocalCache\\local-packages\\Python313\\site-packages\\pandas\\core\\internals\\managers.py:361\u001b[39m, in \u001b[36mBaseBlockManager.apply\u001b[39m\u001b[34m(self, f, align_keys, **kwargs)\u001b[39m\n\u001b[32m    358\u001b[39m             kwargs[k] = obj[b.mgr_locs.indexer]\n\u001b[32m    360\u001b[39m \u001b[38;5;28;01mif\u001b[39;00m \u001b[38;5;28mcallable\u001b[39m(f):\n\u001b[32m--> \u001b[39m\u001b[32m361\u001b[39m     applied = \u001b[43mb\u001b[49m\u001b[43m.\u001b[49m\u001b[43mapply\u001b[49m\u001b[43m(\u001b[49m\u001b[43mf\u001b[49m\u001b[43m,\u001b[49m\u001b[43m \u001b[49m\u001b[43m*\u001b[49m\u001b[43m*\u001b[49m\u001b[43mkwargs\u001b[49m\u001b[43m)\u001b[49m\n\u001b[32m    362\u001b[39m \u001b[38;5;28;01melse\u001b[39;00m:\n\u001b[32m    363\u001b[39m     applied = \u001b[38;5;28mgetattr\u001b[39m(b, f)(**kwargs)\n",
      "\u001b[36mFile \u001b[39m\u001b[32m~\\AppData\\Local\\Packages\\PythonSoftwareFoundation.Python.3.13_qbz5n2kfra8p0\\LocalCache\\local-packages\\Python313\\site-packages\\pandas\\core\\internals\\blocks.py:393\u001b[39m, in \u001b[36mBlock.apply\u001b[39m\u001b[34m(self, func, **kwargs)\u001b[39m\n\u001b[32m    387\u001b[39m \u001b[38;5;129m@final\u001b[39m\n\u001b[32m    388\u001b[39m \u001b[38;5;28;01mdef\u001b[39;00m\u001b[38;5;250m \u001b[39m\u001b[34mapply\u001b[39m(\u001b[38;5;28mself\u001b[39m, func, **kwargs) -> \u001b[38;5;28mlist\u001b[39m[Block]:\n\u001b[32m    389\u001b[39m \u001b[38;5;250m    \u001b[39m\u001b[33;03m\"\"\"\u001b[39;00m\n\u001b[32m    390\u001b[39m \u001b[33;03m    apply the function to my values; return a block if we are not\u001b[39;00m\n\u001b[32m    391\u001b[39m \u001b[33;03m    one\u001b[39;00m\n\u001b[32m    392\u001b[39m \u001b[33;03m    \"\"\"\u001b[39;00m\n\u001b[32m--> \u001b[39m\u001b[32m393\u001b[39m     result = \u001b[43mfunc\u001b[49m\u001b[43m(\u001b[49m\u001b[38;5;28;43mself\u001b[39;49m\u001b[43m.\u001b[49m\u001b[43mvalues\u001b[49m\u001b[43m,\u001b[49m\u001b[43m \u001b[49m\u001b[43m*\u001b[49m\u001b[43m*\u001b[49m\u001b[43mkwargs\u001b[49m\u001b[43m)\u001b[49m\n\u001b[32m    395\u001b[39m     result = maybe_coerce_values(result)\n\u001b[32m    396\u001b[39m     \u001b[38;5;28;01mreturn\u001b[39;00m \u001b[38;5;28mself\u001b[39m._split_op_result(result)\n",
      "\u001b[31mTypeError\u001b[39m: bad operand type for unary ~: 'float'"
     ]
    }
   ],
   "source": [
    "df = df[~df['InvoiceNo'].str.startswith('C')]\n",
    "cancelled_count = df['InvoiceNo'].str.startswith('C').sum()\n",
    "\n",
    "print(f\"Nombre de factures annulées : {cancelled_count}\")"
   ]
  },
  {
   "cell_type": "code",
   "execution_count": null,
   "metadata": {},
   "outputs": [],
   "source": [
    "def aggregate_world_data(df, mapping_df):\n",
    "    # Fusionner avec le mapping des continents\n",
    "    df = df.merge(mapping_df, left_on='Country', right_on='Country', how='left')\n",
    "\n",
    "    # Ajouter la colonne des revenus\n",
    "    df['TotalRevenue'] = df['Quantity'] * df['UnitPrice']\n",
    "\n",
    "    # Classer les continents selon les dépenses\n",
    "    continent_revenue = (\n",
    "        df.groupby('Continent')['TotalRevenue']\n",
    "        .sum()\n",
    "        .reset_index()\n",
    "        .sort_values(by='TotalRevenue', ascending=False)\n",
    "    )\n",
    "\n",
    "    # Trouver le continent avec le plus d'opérations annulées\n",
    "    canceled_df = df[df['Quantity'] < 0]\n",
    "    canceled_operations = (\n",
    "        canceled_df.groupby('Continent')['InvoiceNo']\n",
    "        .count()\n",
    "        .reset_index()\n",
    "        .sort_values(by='InvoiceNo', ascending=False)\n",
    "    )\n",
    "\n",
    "    # Afficher les résultats\n",
    "    print(\"Classement des continents selon les dépenses :\")\n",
    "    print(continent_revenue)\n",
    "    print(\"\\nContinent avec le plus d'opérations annulées :\")\n",
    "    print(canceled_operations)"
   ]
  },
  {
   "cell_type": "code",
   "execution_count": 11,
   "metadata": {},
   "outputs": [
    {
     "name": "stdout",
     "output_type": "stream",
     "text": [
      "                 Country      Continent\n",
      "0         United Kingdom         Europe\n",
      "1                 France         Europe\n",
      "2              Australia        Oceania\n",
      "3            Netherlands         Europe\n",
      "4                Germany         Europe\n",
      "5                 Norway         Europe\n",
      "6                   EIRE         Europe\n",
      "7            Switzerland         Europe\n",
      "8                  Spain         Europe\n",
      "9                 Poland         Europe\n",
      "10              Portugal         Europe\n",
      "11                 Italy         Europe\n",
      "12               Belgium         Europe\n",
      "13             Lithuania         Europe\n",
      "14                 Japan           Asia\n",
      "15               Iceland         Europe\n",
      "16       Channel Islands         Europe\n",
      "17               Denmark         Europe\n",
      "18                Cyprus         Europe\n",
      "19                Sweden         Europe\n",
      "20               Finland         Europe\n",
      "21               Austria         Europe\n",
      "22                Greece         Europe\n",
      "23             Singapore           Asia\n",
      "24               Lebanon           Asia\n",
      "25  United Arab Emirates           Asia\n",
      "26                Israel           Asia\n",
      "27          Saudi Arabia           Asia\n",
      "28        Czech Republic         Europe\n",
      "29                Canada  North America\n",
      "30           Unspecified        Unknown\n",
      "31                Brazil  South America\n",
      "32                   USA  North America\n",
      "33    European Community         Europe\n",
      "34               Bahrain           Asia\n",
      "35                 Malta         Europe\n",
      "36                   RSA         Africa\n"
     ]
    }
   ],
   "source": [
    "country_continent_mapping = {\n",
    "    \"United Kingdom\": \"Europe\", \"France\": \"Europe\", \"Australia\": \"Oceania\",\n",
    "    \"Netherlands\": \"Europe\", \"Germany\": \"Europe\", \"Norway\": \"Europe\",\n",
    "    \"EIRE\": \"Europe\", \"Switzerland\": \"Europe\", \"Spain\": \"Europe\",\n",
    "    \"Poland\": \"Europe\", \"Portugal\": \"Europe\", \"Italy\": \"Europe\",\n",
    "    \"Belgium\": \"Europe\", \"Lithuania\": \"Europe\", \"Japan\": \"Asia\",\n",
    "    \"Iceland\": \"Europe\", \"Channel Islands\": \"Europe\", \"Denmark\": \"Europe\",\n",
    "    \"Cyprus\": \"Europe\", \"Sweden\": \"Europe\", \"Finland\": \"Europe\",\n",
    "    \"Austria\": \"Europe\", \"Greece\": \"Europe\", \"Singapore\": \"Asia\",\n",
    "    \"Lebanon\": \"Asia\", \"United Arab Emirates\": \"Asia\", \"Israel\": \"Asia\",\n",
    "    \"Saudi Arabia\": \"Asia\", \"Czech Republic\": \"Europe\", \"Canada\": \"North America\",\n",
    "    \"Unspecified\": \"Unknown\", \"Brazil\": \"South America\", \"USA\": \"North America\",\n",
    "    \"European Community\": \"Europe\", \"Bahrain\": \"Asia\", \"Malta\": \"Europe\", \"RSA\": \"Africa\"\n",
    "}\n",
    "\n",
    "# Créer un DataFrame à partir du dictionnaire\n",
    "mapping_df = pd.DataFrame(list(country_continent_mapping.items()), columns=['Country', 'Continent'])\n",
    "\n",
    "# Afficher le DataFrame\n",
    "print(mapping_df)\n"
   ]
  },
  {
   "cell_type": "code",
   "execution_count": 10,
   "metadata": {},
   "outputs": [],
   "source": [
    "def aggregate_world_data(df ):\n",
    "       country_continent_mapping = {\n",
    "    \"United Kingdom\": \"Europe\", \"France\": \"Europe\", \"Australia\": \"Oceania\",\n",
    "    \"Netherlands\": \"Europe\", \"Germany\": \"Europe\", \"Norway\": \"Europe\",\n",
    "    \"EIRE\": \"Europe\", \"Switzerland\": \"Europe\", \"Spain\": \"Europe\",\n",
    "    \"Poland\": \"Europe\", \"Portugal\": \"Europe\", \"Italy\": \"Europe\",\n",
    "    \"Belgium\": \"Europe\", \"Lithuania\": \"Europe\", \"Japan\": \"Asia\",\n",
    "    \"Iceland\": \"Europe\", \"Channel Islands\": \"Europe\", \"Denmark\": \"Europe\",\n",
    "    \"Cyprus\": \"Europe\", \"Sweden\": \"Europe\", \"Finland\": \"Europe\",\n",
    "    \"Austria\": \"Europe\", \"Greece\": \"Europe\", \"Singapore\": \"Asia\",\n",
    "    \"Lebanon\": \"Asia\", \"United Arab Emirates\": \"Asia\", \"Israel\": \"Asia\",\n",
    "    \"Saudi Arabia\": \"Asia\", \"Czech Republic\": \"Europe\", \"Canada\": \"North America\",\n",
    "    \"Unspecified\": \"Unknown\", \"Brazil\": \"South America\", \"USA\": \"North America\",\n",
    "    \"European Community\": \"Europe\", \"Bahrain\": \"Asia\", \"Malta\": \"Europe\", \"RSA\": \"Africa\"\n",
    "}\n",
    "       \n",
    "       mapping_df = pd.DataFrame(list(country_continent_mapping.items()), columns=['Country', 'Continent'])\n",
    "\n",
    "\n",
    "    # Fusionner le DataFrame des transactions avec le mapping des continents\n",
    "       df = df.merge(mapping_df, left_on='Country', right_on='Country', how='left')\n",
    "\n",
    "    # Calculer le montant total par transaction\n",
    "       df['TotalAmount'] = df['Quantity'] * df['UnitPrice']\n",
    "       valid_sales = df[df['TotalAmount'] > 0]\n",
    "\n",
    "    # Classer les continents selon les dépenses totales\n",
    "       continent_sales = valid_sales.groupby('Continent')['TotalAmount'].sum().reset_index()\n",
    "       continent_sales = continent_sales.sort_values(by='TotalAmount', ascending=False)\n",
    "\n",
    "    # Identifier le continent avec le plus d’opérations annulées (quantité négative)\n",
    "       cancelled_transactions = df[df['Quantity'] < 0]\n",
    "       continent_cancellations = cancelled_transactions['Continent'].value_counts().reset_index()\n",
    "       continent_cancellations.columns = ['Continent', 'CancelledTransactions']\n",
    "\n",
    "    # Résultats\n",
    "       print(\"Classement des continents par dépenses :\")\n",
    "       print(continent_sales)\n",
    "\n",
    "       print(\"\\nContinent avec le plus d'opérations annulées :\")\n",
    "       print(continent_cancellations)\n",
    "\n",
    "       return continent_sales, continent_cancellations\n",
    "\n",
    "\n",
    "\n",
    "\n",
    "\n",
    "\n",
    "\n"
   ]
  },
  {
   "cell_type": "code",
   "execution_count": 11,
   "metadata": {},
   "outputs": [
    {
     "name": "stdout",
     "output_type": "stream",
     "text": [
      "Classement des continents par dépenses :\n",
      "       Continent   TotalAmount\n",
      "2         Europe  1.042700e+07\n",
      "4        Oceania  1.385213e+05\n",
      "1           Asia  7.132714e+04\n",
      "3  North America  7.246770e+03\n",
      "6        Unknown  4.749790e+03\n",
      "5  South America  1.143600e+03\n",
      "0         Africa  1.002310e+03\n",
      "\n",
      "Continent avec le plus d'opérations annulées :\n",
      "       Continent  CancelledTransactions\n",
      "0         Europe                  10386\n",
      "1  North America                    112\n",
      "2        Oceania                     74\n",
      "3           Asia                     48\n"
     ]
    },
    {
     "data": {
      "text/plain": [
       "(       Continent   TotalAmount\n",
       " 2         Europe  1.042700e+07\n",
       " 4        Oceania  1.385213e+05\n",
       " 1           Asia  7.132714e+04\n",
       " 3  North America  7.246770e+03\n",
       " 6        Unknown  4.749790e+03\n",
       " 5  South America  1.143600e+03\n",
       " 0         Africa  1.002310e+03,\n",
       "        Continent  CancelledTransactions\n",
       " 0         Europe                  10386\n",
       " 1  North America                    112\n",
       " 2        Oceania                     74\n",
       " 3           Asia                     48)"
      ]
     },
     "execution_count": 11,
     "metadata": {},
     "output_type": "execute_result"
    }
   ],
   "source": [
    "aggregate_world_data(df)"
   ]
  },
  {
   "cell_type": "code",
   "execution_count": 27,
   "metadata": {},
   "outputs": [],
   "source": [
    "\n",
    "def aggregate_supplier_data(df):\n",
    "        supplier_df=pd.read_csv('Supplier.csv')\n",
    "        \n",
    "    # Fusionner les dataframes sur 'InvoiceNo'\n",
    "        merged_df = pd.merge(df, supplier_df, on='InvoiceNo')\n",
    "\n",
    "    # Filtrer les transactions annulées\n",
    "        merged_df = merged_df[merged_df['Quantity'] > 0]\n",
    "    \n",
    "    # Calculer le total des ventes par fournisseur\n",
    "        supplier_sales = (\n",
    "        merged_df.groupby('Fournisseur')['Quantity']\n",
    "        .sum()\n",
    "        .reset_index()\n",
    "        .sort_values(by='Quantity', ascending=False)\n",
    "    )\n",
    "\n",
    "    # Filtrer pour l'année 2011 et le Royaume-Uni\n",
    "        uk_2011_df = merged_df[(merged_df['InvoiceDate'].dt.year == 2011) & (merged_df['Country'] == 'United Kingdom')]\n",
    "        uk_2011_supplier_sales = (\n",
    "        uk_2011_df.groupby('Fournisseur')['Quantity']\n",
    "        .sum()\n",
    "        .reset_index()\n",
    "        .sort_values(by='Quantity', ascending=False)\n",
    "    )\n",
    "\n",
    "    # Afficher les résultats\n",
    "        print(\"Classement des fournisseurs selon le total des ventes :\")\n",
    "        print(supplier_sales)\n",
    "        print(\"\\nClassement des fournisseurs en 2011 pour le Royaume-Uni :\")\n",
    "        print(uk_2011_supplier_sales)\n"
   ]
  },
  {
   "cell_type": "code",
   "execution_count": 28,
   "metadata": {},
   "outputs": [
    {
     "name": "stdout",
     "output_type": "stream",
     "text": [
      "Classement des fournisseurs selon le total des ventes :\n",
      "  Fournisseur  Quantity\n",
      "0        F161         1\n",
      "1        F516         1\n",
      "2        F703         1\n",
      "\n",
      "Classement des fournisseurs en 2011 pour le Royaume-Uni :\n",
      "  Fournisseur  Quantity\n",
      "0        F161         1\n",
      "1        F516         1\n",
      "2        F703         1\n"
     ]
    }
   ],
   "source": [
    "aggregate_supplier_data(df)"
   ]
  }
 ],
 "metadata": {
  "kernelspec": {
   "display_name": "Python 3",
   "language": "python",
   "name": "python3"
  },
  "language_info": {
   "codemirror_mode": {
    "name": "ipython",
    "version": 3
   },
   "file_extension": ".py",
   "mimetype": "text/x-python",
   "name": "python",
   "nbconvert_exporter": "python",
   "pygments_lexer": "ipython3",
   "version": "3.13.2"
  }
 },
 "nbformat": 4,
 "nbformat_minor": 2
}
